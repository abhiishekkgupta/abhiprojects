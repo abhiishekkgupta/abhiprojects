{
 "cells": [
  {
   "cell_type": "code",
   "execution_count": 7,
   "id": "4983d9df-a318-4c55-b698-935fe5cb7ea4",
   "metadata": {},
   "outputs": [],
   "source": [
    "import numpy as np\n",
    "import matplotlib.pyplot as plt\n",
    "import pandas as pd\n",
    "import seaborn as sns"
   ]
  },
  {
   "cell_type": "code",
   "execution_count": 8,
   "id": "9a511c17-09bf-408e-aaf5-f1d967d46227",
   "metadata": {},
   "outputs": [
    {
     "name": "stdout",
     "output_type": "stream",
     "text": [
      "  student_id  age  gender  study_hours_per_day  social_media_hours  \\\n",
      "0      S1000   23  Female                  0.0                 1.2   \n",
      "1      S1001   20  Female                  6.9                 2.8   \n",
      "2      S1002   21    Male                  1.4                 3.1   \n",
      "3      S1003   23  Female                  1.0                 3.9   \n",
      "4      S1004   19  Female                  5.0                 4.4   \n",
      "\n",
      "   netflix_hours part_time_job  attendance_percentage  sleep_hours  \\\n",
      "0            1.1            No                   85.0          8.0   \n",
      "1            2.3            No                   97.3          4.6   \n",
      "2            1.3            No                   94.8          8.0   \n",
      "3            1.0            No                   71.0          9.2   \n",
      "4            0.5            No                   90.9          4.9   \n",
      "\n",
      "  diet_quality  exercise_frequency parental_education_level internet_quality  \\\n",
      "0         Fair                   6                   Master          Average   \n",
      "1         Good                   6              High School          Average   \n",
      "2         Poor                   1              High School             Poor   \n",
      "3         Poor                   4                   Master             Good   \n",
      "4         Fair                   3                   Master             Good   \n",
      "\n",
      "   mental_health_rating extracurricular_participation  exam_score  \n",
      "0                     8                           Yes        56.2  \n",
      "1                     8                            No       100.0  \n",
      "2                     1                            No        34.3  \n",
      "3                     1                           Yes        26.8  \n",
      "4                     1                            No        66.4  \n"
     ]
    }
   ],
   "source": [
    "df = pd.read_csv(r\"C:\\Users\\abhis\\OneDrive\\Desktop\\python\\student_habits_performance.csv\")\n",
    "print(df.head())"
   ]
  },
  {
   "cell_type": "code",
   "execution_count": 9,
   "id": "2e30663c-2644-46fd-89da-e5c84c44af3e",
   "metadata": {},
   "outputs": [
    {
     "data": {
      "text/html": [
       "<div>\n",
       "<style scoped>\n",
       "    .dataframe tbody tr th:only-of-type {\n",
       "        vertical-align: middle;\n",
       "    }\n",
       "\n",
       "    .dataframe tbody tr th {\n",
       "        vertical-align: top;\n",
       "    }\n",
       "\n",
       "    .dataframe thead th {\n",
       "        text-align: right;\n",
       "    }\n",
       "</style>\n",
       "<table border=\"1\" class=\"dataframe\">\n",
       "  <thead>\n",
       "    <tr style=\"text-align: right;\">\n",
       "      <th></th>\n",
       "      <th>age</th>\n",
       "      <th>study_hours_per_day</th>\n",
       "      <th>social_media_hours</th>\n",
       "      <th>netflix_hours</th>\n",
       "      <th>attendance_percentage</th>\n",
       "      <th>sleep_hours</th>\n",
       "      <th>exercise_frequency</th>\n",
       "      <th>mental_health_rating</th>\n",
       "      <th>exam_score</th>\n",
       "    </tr>\n",
       "  </thead>\n",
       "  <tbody>\n",
       "    <tr>\n",
       "      <th>count</th>\n",
       "      <td>1000.0000</td>\n",
       "      <td>1000.00000</td>\n",
       "      <td>1000.000000</td>\n",
       "      <td>1000.000000</td>\n",
       "      <td>1000.000000</td>\n",
       "      <td>1000.000000</td>\n",
       "      <td>1000.000000</td>\n",
       "      <td>1000.000000</td>\n",
       "      <td>1000.000000</td>\n",
       "    </tr>\n",
       "    <tr>\n",
       "      <th>mean</th>\n",
       "      <td>20.4980</td>\n",
       "      <td>3.55010</td>\n",
       "      <td>2.505500</td>\n",
       "      <td>1.819700</td>\n",
       "      <td>84.131700</td>\n",
       "      <td>6.470100</td>\n",
       "      <td>3.042000</td>\n",
       "      <td>5.438000</td>\n",
       "      <td>69.601500</td>\n",
       "    </tr>\n",
       "    <tr>\n",
       "      <th>std</th>\n",
       "      <td>2.3081</td>\n",
       "      <td>1.46889</td>\n",
       "      <td>1.172422</td>\n",
       "      <td>1.075118</td>\n",
       "      <td>9.399246</td>\n",
       "      <td>1.226377</td>\n",
       "      <td>2.025423</td>\n",
       "      <td>2.847501</td>\n",
       "      <td>16.888564</td>\n",
       "    </tr>\n",
       "    <tr>\n",
       "      <th>min</th>\n",
       "      <td>17.0000</td>\n",
       "      <td>0.00000</td>\n",
       "      <td>0.000000</td>\n",
       "      <td>0.000000</td>\n",
       "      <td>56.000000</td>\n",
       "      <td>3.200000</td>\n",
       "      <td>0.000000</td>\n",
       "      <td>1.000000</td>\n",
       "      <td>18.400000</td>\n",
       "    </tr>\n",
       "    <tr>\n",
       "      <th>25%</th>\n",
       "      <td>18.7500</td>\n",
       "      <td>2.60000</td>\n",
       "      <td>1.700000</td>\n",
       "      <td>1.000000</td>\n",
       "      <td>78.000000</td>\n",
       "      <td>5.600000</td>\n",
       "      <td>1.000000</td>\n",
       "      <td>3.000000</td>\n",
       "      <td>58.475000</td>\n",
       "    </tr>\n",
       "    <tr>\n",
       "      <th>50%</th>\n",
       "      <td>20.0000</td>\n",
       "      <td>3.50000</td>\n",
       "      <td>2.500000</td>\n",
       "      <td>1.800000</td>\n",
       "      <td>84.400000</td>\n",
       "      <td>6.500000</td>\n",
       "      <td>3.000000</td>\n",
       "      <td>5.000000</td>\n",
       "      <td>70.500000</td>\n",
       "    </tr>\n",
       "    <tr>\n",
       "      <th>75%</th>\n",
       "      <td>23.0000</td>\n",
       "      <td>4.50000</td>\n",
       "      <td>3.300000</td>\n",
       "      <td>2.525000</td>\n",
       "      <td>91.025000</td>\n",
       "      <td>7.300000</td>\n",
       "      <td>5.000000</td>\n",
       "      <td>8.000000</td>\n",
       "      <td>81.325000</td>\n",
       "    </tr>\n",
       "    <tr>\n",
       "      <th>max</th>\n",
       "      <td>24.0000</td>\n",
       "      <td>8.30000</td>\n",
       "      <td>7.200000</td>\n",
       "      <td>5.400000</td>\n",
       "      <td>100.000000</td>\n",
       "      <td>10.000000</td>\n",
       "      <td>6.000000</td>\n",
       "      <td>10.000000</td>\n",
       "      <td>100.000000</td>\n",
       "    </tr>\n",
       "  </tbody>\n",
       "</table>\n",
       "</div>"
      ],
      "text/plain": [
       "             age  study_hours_per_day  social_media_hours  netflix_hours  \\\n",
       "count  1000.0000           1000.00000         1000.000000    1000.000000   \n",
       "mean     20.4980              3.55010            2.505500       1.819700   \n",
       "std       2.3081              1.46889            1.172422       1.075118   \n",
       "min      17.0000              0.00000            0.000000       0.000000   \n",
       "25%      18.7500              2.60000            1.700000       1.000000   \n",
       "50%      20.0000              3.50000            2.500000       1.800000   \n",
       "75%      23.0000              4.50000            3.300000       2.525000   \n",
       "max      24.0000              8.30000            7.200000       5.400000   \n",
       "\n",
       "       attendance_percentage  sleep_hours  exercise_frequency  \\\n",
       "count            1000.000000  1000.000000         1000.000000   \n",
       "mean               84.131700     6.470100            3.042000   \n",
       "std                 9.399246     1.226377            2.025423   \n",
       "min                56.000000     3.200000            0.000000   \n",
       "25%                78.000000     5.600000            1.000000   \n",
       "50%                84.400000     6.500000            3.000000   \n",
       "75%                91.025000     7.300000            5.000000   \n",
       "max               100.000000    10.000000            6.000000   \n",
       "\n",
       "       mental_health_rating   exam_score  \n",
       "count           1000.000000  1000.000000  \n",
       "mean               5.438000    69.601500  \n",
       "std                2.847501    16.888564  \n",
       "min                1.000000    18.400000  \n",
       "25%                3.000000    58.475000  \n",
       "50%                5.000000    70.500000  \n",
       "75%                8.000000    81.325000  \n",
       "max               10.000000   100.000000  "
      ]
     },
     "execution_count": 9,
     "metadata": {},
     "output_type": "execute_result"
    }
   ],
   "source": [
    "df.describe()"
   ]
  },
  {
   "cell_type": "code",
   "execution_count": 10,
   "id": "0f8397c2-ddf3-45bd-aaf6-59b62e9ade11",
   "metadata": {},
   "outputs": [
    {
     "name": "stdout",
     "output_type": "stream",
     "text": [
      "<class 'pandas.core.frame.DataFrame'>\n",
      "RangeIndex: 1000 entries, 0 to 999\n",
      "Data columns (total 16 columns):\n",
      " #   Column                         Non-Null Count  Dtype  \n",
      "---  ------                         --------------  -----  \n",
      " 0   student_id                     1000 non-null   object \n",
      " 1   age                            1000 non-null   int64  \n",
      " 2   gender                         1000 non-null   object \n",
      " 3   study_hours_per_day            1000 non-null   float64\n",
      " 4   social_media_hours             1000 non-null   float64\n",
      " 5   netflix_hours                  1000 non-null   float64\n",
      " 6   part_time_job                  1000 non-null   object \n",
      " 7   attendance_percentage          1000 non-null   float64\n",
      " 8   sleep_hours                    1000 non-null   float64\n",
      " 9   diet_quality                   1000 non-null   object \n",
      " 10  exercise_frequency             1000 non-null   int64  \n",
      " 11  parental_education_level       909 non-null    object \n",
      " 12  internet_quality               1000 non-null   object \n",
      " 13  mental_health_rating           1000 non-null   int64  \n",
      " 14  extracurricular_participation  1000 non-null   object \n",
      " 15  exam_score                     1000 non-null   float64\n",
      "dtypes: float64(6), int64(3), object(7)\n",
      "memory usage: 125.1+ KB\n"
     ]
    }
   ],
   "source": [
    "df.info()"
   ]
  },
  {
   "cell_type": "code",
   "execution_count": 11,
   "id": "e57ca694-3ff6-4dcb-a8ea-ba05797668d4",
   "metadata": {},
   "outputs": [
    {
     "data": {
      "text/plain": [
       "student_id                        0\n",
       "age                               0\n",
       "gender                            0\n",
       "study_hours_per_day               0\n",
       "social_media_hours                0\n",
       "netflix_hours                     0\n",
       "part_time_job                     0\n",
       "attendance_percentage             0\n",
       "sleep_hours                       0\n",
       "diet_quality                      0\n",
       "exercise_frequency                0\n",
       "parental_education_level         91\n",
       "internet_quality                  0\n",
       "mental_health_rating              0\n",
       "extracurricular_participation     0\n",
       "exam_score                        0\n",
       "dtype: int64"
      ]
     },
     "execution_count": 11,
     "metadata": {},
     "output_type": "execute_result"
    }
   ],
   "source": [
    "df.isnull().sum()"
   ]
  },
  {
   "cell_type": "code",
   "execution_count": 12,
   "id": "a10654e6-2ac4-4fa3-a62d-061741fe95fa",
   "metadata": {},
   "outputs": [],
   "source": [
    "# change weekly study hour column"
   ]
  },
  {
   "cell_type": "code",
   "execution_count": 13,
   "id": "81479818-ab18-4176-966c-6cd35a6b05f7",
   "metadata": {},
   "outputs": [
    {
     "data": {
      "text/html": [
       "<div>\n",
       "<style scoped>\n",
       "    .dataframe tbody tr th:only-of-type {\n",
       "        vertical-align: middle;\n",
       "    }\n",
       "\n",
       "    .dataframe tbody tr th {\n",
       "        vertical-align: top;\n",
       "    }\n",
       "\n",
       "    .dataframe thead th {\n",
       "        text-align: right;\n",
       "    }\n",
       "</style>\n",
       "<table border=\"1\" class=\"dataframe\">\n",
       "  <thead>\n",
       "    <tr style=\"text-align: right;\">\n",
       "      <th></th>\n",
       "      <th>student_id</th>\n",
       "      <th>age</th>\n",
       "      <th>gender</th>\n",
       "      <th>study_hours_per_day</th>\n",
       "      <th>social_media_hours</th>\n",
       "      <th>netflix_hours</th>\n",
       "      <th>part_time_job</th>\n",
       "      <th>attendance_percentage</th>\n",
       "      <th>sleep_hours</th>\n",
       "      <th>diet_quality</th>\n",
       "      <th>exercise_frequency</th>\n",
       "      <th>parental_education_level</th>\n",
       "      <th>internet_quality</th>\n",
       "      <th>mental_health_rating</th>\n",
       "      <th>extracurricular_participation</th>\n",
       "      <th>exam_score</th>\n",
       "    </tr>\n",
       "  </thead>\n",
       "  <tbody>\n",
       "    <tr>\n",
       "      <th>0</th>\n",
       "      <td>S1000</td>\n",
       "      <td>23</td>\n",
       "      <td>Female</td>\n",
       "      <td>0.0</td>\n",
       "      <td>1.2</td>\n",
       "      <td>1.1</td>\n",
       "      <td>No</td>\n",
       "      <td>85.0</td>\n",
       "      <td>8.0</td>\n",
       "      <td>Fair</td>\n",
       "      <td>6</td>\n",
       "      <td>Master</td>\n",
       "      <td>Average</td>\n",
       "      <td>8</td>\n",
       "      <td>Yes</td>\n",
       "      <td>56.2</td>\n",
       "    </tr>\n",
       "    <tr>\n",
       "      <th>1</th>\n",
       "      <td>S1001</td>\n",
       "      <td>20</td>\n",
       "      <td>Female</td>\n",
       "      <td>6.9</td>\n",
       "      <td>2.8</td>\n",
       "      <td>2.3</td>\n",
       "      <td>No</td>\n",
       "      <td>97.3</td>\n",
       "      <td>4.6</td>\n",
       "      <td>Good</td>\n",
       "      <td>6</td>\n",
       "      <td>High School</td>\n",
       "      <td>Average</td>\n",
       "      <td>8</td>\n",
       "      <td>No</td>\n",
       "      <td>100.0</td>\n",
       "    </tr>\n",
       "    <tr>\n",
       "      <th>2</th>\n",
       "      <td>S1002</td>\n",
       "      <td>21</td>\n",
       "      <td>Male</td>\n",
       "      <td>1.4</td>\n",
       "      <td>3.1</td>\n",
       "      <td>1.3</td>\n",
       "      <td>No</td>\n",
       "      <td>94.8</td>\n",
       "      <td>8.0</td>\n",
       "      <td>Poor</td>\n",
       "      <td>1</td>\n",
       "      <td>High School</td>\n",
       "      <td>Poor</td>\n",
       "      <td>1</td>\n",
       "      <td>No</td>\n",
       "      <td>34.3</td>\n",
       "    </tr>\n",
       "    <tr>\n",
       "      <th>3</th>\n",
       "      <td>S1003</td>\n",
       "      <td>23</td>\n",
       "      <td>Female</td>\n",
       "      <td>2-4</td>\n",
       "      <td>3.9</td>\n",
       "      <td>1.0</td>\n",
       "      <td>No</td>\n",
       "      <td>71.0</td>\n",
       "      <td>9.2</td>\n",
       "      <td>Poor</td>\n",
       "      <td>4</td>\n",
       "      <td>Master</td>\n",
       "      <td>Good</td>\n",
       "      <td>1</td>\n",
       "      <td>Yes</td>\n",
       "      <td>26.8</td>\n",
       "    </tr>\n",
       "    <tr>\n",
       "      <th>4</th>\n",
       "      <td>S1004</td>\n",
       "      <td>19</td>\n",
       "      <td>Female</td>\n",
       "      <td>5.0</td>\n",
       "      <td>4.4</td>\n",
       "      <td>0.5</td>\n",
       "      <td>No</td>\n",
       "      <td>90.9</td>\n",
       "      <td>4.9</td>\n",
       "      <td>Fair</td>\n",
       "      <td>3</td>\n",
       "      <td>Master</td>\n",
       "      <td>Good</td>\n",
       "      <td>1</td>\n",
       "      <td>No</td>\n",
       "      <td>66.4</td>\n",
       "    </tr>\n",
       "  </tbody>\n",
       "</table>\n",
       "</div>"
      ],
      "text/plain": [
       "  student_id  age  gender study_hours_per_day  social_media_hours  \\\n",
       "0      S1000   23  Female                 0.0                 1.2   \n",
       "1      S1001   20  Female                 6.9                 2.8   \n",
       "2      S1002   21    Male                 1.4                 3.1   \n",
       "3      S1003   23  Female                 2-4                 3.9   \n",
       "4      S1004   19  Female                 5.0                 4.4   \n",
       "\n",
       "   netflix_hours part_time_job  attendance_percentage  sleep_hours  \\\n",
       "0            1.1            No                   85.0          8.0   \n",
       "1            2.3            No                   97.3          4.6   \n",
       "2            1.3            No                   94.8          8.0   \n",
       "3            1.0            No                   71.0          9.2   \n",
       "4            0.5            No                   90.9          4.9   \n",
       "\n",
       "  diet_quality  exercise_frequency parental_education_level internet_quality  \\\n",
       "0         Fair                   6                   Master          Average   \n",
       "1         Good                   6              High School          Average   \n",
       "2         Poor                   1              High School             Poor   \n",
       "3         Poor                   4                   Master             Good   \n",
       "4         Fair                   3                   Master             Good   \n",
       "\n",
       "   mental_health_rating extracurricular_participation  exam_score  \n",
       "0                     8                           Yes        56.2  \n",
       "1                     8                            No       100.0  \n",
       "2                     1                            No        34.3  \n",
       "3                     1                           Yes        26.8  \n",
       "4                     1                            No        66.4  "
      ]
     },
     "execution_count": 13,
     "metadata": {},
     "output_type": "execute_result"
    }
   ],
   "source": [
    "df[\"study_hours_per_day\"] = df[\"study_hours_per_day\"].replace(1,\"2-4\")\n",
    "df.head()"
   ]
  },
  {
   "cell_type": "code",
   "execution_count": null,
   "id": "3798fc32-fe70-47a6-8b77-87c11f7b9fa3",
   "metadata": {},
   "outputs": [],
   "source": []
  },
  {
   "cell_type": "code",
   "execution_count": null,
   "id": "1fad0b36-3b03-4787-be5d-3a27dfa71866",
   "metadata": {},
   "outputs": [],
   "source": [
    "\n"
   ]
  },
  {
   "cell_type": "code",
   "execution_count": 14,
   "id": "7e07121d-aeb8-4d95-ab98-d1bd17e0653e",
   "metadata": {},
   "outputs": [
    {
     "data": {
      "image/png": "[encoded data removed]",
      "text/plain": [
       "<Figure size 400x300 with 1 Axes>"
      ]
     },
     "metadata": {},
     "output_type": "display_data"
    }
   ],
   "source": [
    "plt.figure(figsize= (4,3))\n",
    "sns.countplot(data = df,x = \"gender\")\n",
    "plt.show()"
   ]
  },
  {
   "cell_type": "code",
   "execution_count": 15,
   "id": "a67df798-ba6f-4b00-b305-da6a24fdd3d9",
   "metadata": {},
   "outputs": [],
   "source": [
    "#from above chart analysed that\n",
    "#the number of females in data is more than the number of males\n"
   ]
  },
  {
   "cell_type": "code",
   "execution_count": 19,
   "id": "1d6fcd7f-3ffe-4127-80a6-bca929dbc400",
   "metadata": {},
   "outputs": [
    {
     "name": "stdout",
     "output_type": "stream",
     "text": [
      "                          netflix_hours  attendance_percentage  exam_score\n",
      "parental_education_level                                                  \n",
      "Bachelor                       1.816286              84.551143   70.272571\n",
      "High School                    1.855612              83.822704   69.547194\n",
      "Master                         1.800599              82.609581   68.086826\n"
     ]
    }
   ],
   "source": [
    "gb=df.groupby(\"parental_education_level\").agg({\"netflix_hours\":'mean',\"attendance_percentage\":'mean',\"exam_score\":'mean'})\n",
    "print(gb)\n",
    "                                                   "
   ]
  },
  {
   "cell_type": "code",
   "execution_count": 26,
   "id": "c67f061f-f4fa-43ab-bbe4-f4bcef75fa9b",
   "metadata": {},
   "outputs": [
    {
     "data": {
      "image/png": "[encoded data removed]",
      "text/plain": [
       "<Figure size 400x300 with 2 Axes>"
      ]
     },
     "metadata": {},
     "output_type": "display_data"
    }
   ],
   "source": [
    "plt.figure(figsize= (4,3))\n",
    "sns.heatmap(gb,annot = True)\n",
    "plt.title(\"Relation with parent education empact on student\")\n",
    "plt.show()"
   ]
  },
  {
   "cell_type": "code",
   "execution_count": 25,
   "id": "aefd9e89-4ef0-4d3c-a4a6-33bc279e3037",
   "metadata": {},
   "outputs": [
    {
     "name": "stdout",
     "output_type": "stream",
     "text": [
      "             netflix_hours  attendance_percentage  exam_score\n",
      "sleep_hours                                                  \n",
      "3.2               0.400000              66.500000   90.800000\n",
      "3.3               1.866667              80.933333   62.000000\n",
      "3.4               2.200000              78.800000   49.900000\n",
      "3.5               1.850000              80.700000   62.250000\n",
      "3.6               2.133333              78.800000   62.000000\n",
      "...                    ...                    ...         ...\n",
      "9.5               1.400000              83.800000   73.266667\n",
      "9.6               3.600000              66.300000   66.200000\n",
      "9.7               1.450000              81.950000   80.450000\n",
      "9.8               0.400000              91.100000   78.700000\n",
      "10.0              1.650000              85.450000   84.900000\n",
      "\n",
      "[68 rows x 3 columns]\n"
     ]
    }
   ],
   "source": [
    "gb1=df.groupby(\"sleep_hours\").agg({\"netflix_hours\":'mean',\"attendance_percentage\":'mean',\"exam_score\":'mean'})\n",
    "print(gb1)"
   ]
  },
  {
   "cell_type": "code",
   "execution_count": 27,
   "id": "69a0b3da-a211-409b-b45e-2668919d2769",
   "metadata": {},
   "outputs": [
    {
     "data": {
      "image/png": "[encoded data removed]",
      "text/plain": [
       "<Figure size 640x480 with 1 Axes>"
      ]
     },
     "metadata": {},
     "output_type": "display_data"
    }
   ],
   "source": [
    "sns.boxplot(data = df, x = 'exam_score')\n",
    "plt.show()"
   ]
  },
  {
   "cell_type": "code",
   "execution_count": 28,
   "id": "801baf55-b00d-4213-9757-2ac94db89b00",
   "metadata": {},
   "outputs": [
    {
     "name": "stdout",
     "output_type": "stream",
     "text": [
      "['Fair' 'Good' 'Poor']\n"
     ]
    }
   ],
   "source": [
    "print(df[\"diet_quality\"].unique())"
   ]
  },
  {
   "cell_type": "code",
   "execution_count": 35,
   "id": "b7a0b1e8-13e0-4855-86f5-05b18a15bb67",
   "metadata": {},
   "outputs": [
    {
     "data": {
      "image/png": "[encoded data removed]",
      "text/plain": [
       "<Figure size 640x480 with 1 Axes>"
      ]
     },
     "metadata": {},
     "output_type": "display_data"
    }
   ],
   "source": [
    "groupA = df.loc[(df['diet_quality'] == 'Good')].count()\n",
    "groupB = df.loc[(df['diet_quality'] == 'Fair')].count()\n",
    "groupC = df.loc[(df['diet_quality'] == 'Bad')].count()\n",
    "\n",
    "l = [\"groupA\",\"groupB\",\"groupC\"]\n",
    "mlist = [groupA[\"diet_quality\"], groupB[\"diet_quality\"], groupC[\"diet_quality\"]]\n",
    "\n",
    "plt.pie(mlist, labels=l, autopct=\"%1.2f%%\")\n",
    "plt.title(\"Diet Quality of Student\")\n",
    "plt.show()"
   ]
  },
  {
   "cell_type": "code",
   "execution_count": 37,
   "id": "c78c7436-9718-4b24-bbb4-26324cc3ee2d",
   "metadata": {},
   "outputs": [
    {
     "name": "stdout",
     "output_type": "stream",
     "text": [
      "[378, 437, 0]\n"
     ]
    },
    {
     "data": {
      "image/png": "[encoded data removed]",
      "text/plain": [
       "<Figure size 640x480 with 1 Axes>"
      ]
     },
     "metadata": {},
     "output_type": "display_data"
    }
   ],
   "source": [
    "ax=sns.countplot(data=df, x=\"diet_quality\")\n",
    "ax.bar_label(ax.containers[0])\n",
    "print(mlist)"
   ]
  },
  {
   "cell_type": "code",
   "execution_count": null,
   "id": "ef5bf566-fa9a-43be-b8ab-1882d567e600",
   "metadata": {},
   "outputs": [],
   "source": []
  }
 ],
 "metadata": {
  "kernelspec": {
   "display_name": "Python 3 (ipykernel)",
   "language": "python",
   "name": "python3"
  },
  "language_info": {
   "codemirror_mode": {
    "name": "ipython",
    "version": 3
   },
   "file_extension": ".py",
   "mimetype": "text/x-python",
   "name": "python",
   "nbconvert_exporter": "python",
   "pygments_lexer": "ipython3",
   "version": "3.12.7"
  }
 },
 "nbformat": 4,
 "nbformat_minor": 5
}
